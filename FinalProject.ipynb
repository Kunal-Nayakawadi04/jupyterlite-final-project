{
 "cells": [
  {
   "cell_type": "markdown",
   "id": "fd4b6951-d2f8-4c6c-b6c9-a515b8da1716",
   "metadata": {},
   "source": [
    "# Final Project - JupyterLite Notebook\n"
   ]
  },
  {
   "cell_type": "markdown",
   "id": "f7c17d94-f765-4bde-aace-37b123bb6e37",
   "metadata": {},
   "source": [
    "## Introduction\n",
    "This notebook demonstrates basic features of JupyterLite: combining markdown and code cells, executing Python code, showing simple arithmetic, a unit conversion example, and how to share the notebook on GitHub.\n"
   ]
  },
  {
   "cell_type": "markdown",
   "id": "935ca064-1c3b-4426-be40-bad269e155a1",
   "metadata": {},
   "source": [
    "## Data Science Languages\n",
    "- Python\n",
    "- R\n",
    "- SQL\n",
    "- Julia\n",
    "- Scala\n"
   ]
  },
  {
   "cell_type": "markdown",
   "id": "989e24ac-348a-4c98-acef-f4f55ae52235",
   "metadata": {},
   "source": [
    "## Data Science Libraries\n",
    "- NumPy\n",
    "- pandas\n",
    "- Matplotlib\n",
    "- scikit-learn\n",
    "- TensorFlow\n"
   ]
  },
  {
   "cell_type": "markdown",
   "id": "e85ed47f-a8b6-4618-8395-05ceaa65b431",
   "metadata": {},
   "source": [
    "## Data Science Tools\n",
    "\n",
    "| Tool        | Purpose                      |\n",
    "|-------------|------------------------------|\n",
    "| JupyterLite | In-browser notebook runtime  |\n",
    "| Git/GitHub  | Version control / sharing    |\n",
    "| VS Code     | Code editor / IDE            |\n",
    "| Anaconda    | Package & environment manager|\n"
   ]
  },
  {
   "cell_type": "markdown",
   "id": "07d61c3d-2b1d-46e1-9a80-80ab37fd1993",
   "metadata": {},
   "source": [
    "## Arithmetic Expression Examples\n",
    "Below are simple examples showing multiplication, addition, and a minutes-to-hours conversion.\n"
   ]
  },
  {
   "cell_type": "code",
   "execution_count": 4,
   "id": "020bd7bc-1106-4ba3-959b-a23e7504ba3e",
   "metadata": {},
   "outputs": [
    {
     "name": "stdout",
     "output_type": "stream",
     "text": [
      "a = 6 b = 7\n",
      "Product (a*b): 42\n",
      "Sum (a+b): 13\n",
      "Expression 3*4 + 5 = 17\n"
     ]
    }
   ],
   "source": [
    "# Multiply and add examples\n",
    "a = 6\n",
    "b = 7\n",
    "product = a * b\n",
    "sum_result = a + b\n",
    "\n",
    "print(\"a =\", a, \"b =\", b)\n",
    "print(\"Product (a*b):\", product)\n",
    "print(\"Sum (a+b):\", sum_result)\n",
    "\n",
    "# Another arithmetic expression\n",
    "expr = 3 * 4 + 5\n",
    "print(\"Expression 3*4 + 5 =\", expr)\n"
   ]
  },
  {
   "cell_type": "code",
   "execution_count": 5,
   "id": "864bba50-503f-4632-82b0-1ccd1d446f80",
   "metadata": {},
   "outputs": [
    {
     "name": "stdout",
     "output_type": "stream",
     "text": [
      "200 minutes = 3 hours and 20 minutes\n",
      "200 minutes = 3.33 hours (decimal)\n"
     ]
    }
   ],
   "source": [
    "def minutes_to_hours(minutes):\n",
    "    hours = minutes // 60\n",
    "    minutes_remaining = minutes % 60\n",
    "    return hours, minutes_remaining\n",
    "\n",
    "mins = 200\n",
    "h, m = minutes_to_hours(mins)\n",
    "print(f\"{mins} minutes = {h} hours and {m} minutes\")\n",
    "print(f\"{mins} minutes = {mins/60:.2f} hours (decimal)\")\n"
   ]
  },
  {
   "cell_type": "markdown",
   "id": "fcf06394-466b-4add-b2b8-69c37fc7064f",
   "metadata": {},
   "source": [
    "## Objectives\n",
    "- Learn to use JupyterLite notebook structure (markdown + code).\n",
    "- Execute and show simple Python examples.\n",
    "- Demonstrate unit conversion (minutes → hours).\n",
    "- Share the notebook publicly via GitHub.\n"
   ]
  },
  {
   "cell_type": "markdown",
   "id": "6043ab50-9b26-4e04-8488-9a29a571a2c5",
   "metadata": {},
   "source": [
    "**Author:** Kunal Nayakawadi\n"
   ]
  }
 ],
 "metadata": {
  "kernelspec": {
   "display_name": "Python 3 (ipykernel)",
   "language": "python",
   "name": "python3"
  },
  "language_info": {
   "codemirror_mode": {
    "name": "ipython",
    "version": 3
   },
   "file_extension": ".py",
   "mimetype": "text/x-python",
   "name": "python",
   "nbconvert_exporter": "python",
   "pygments_lexer": "ipython3",
   "version": "3.13.5"
  }
 },
 "nbformat": 4,
 "nbformat_minor": 5
}
